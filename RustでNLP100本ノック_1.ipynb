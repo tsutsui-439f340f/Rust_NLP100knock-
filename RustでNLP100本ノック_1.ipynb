{
 "cells": [
  {
   "cell_type": "markdown",
   "metadata": {},
   "source": [
    "# Rustの文字列操作の勉強\n",
    "----------\n",
    "参考ページ:<br>\n",
    "100本ノックhttps://nlp100.github.io/ja/ch01.html<br>\n",
    "目次のつけ方:https://qiita.com/hanon/items/1d00a1eac026af0389fb<br>\n",
    "Rustのcharと&strとStringが難しい:https://qiita.com/kujirahand/items/fcb4f75dbdbfaf36aa75<br>\n",
    "文字列操作 with Rust:https://qiita.com/hobo0xcc/items/04846eeccb5e2004731a<br>\n",
    "[Rust]ベクター配列の検索を行う[含有判定、一致要素取得]:https://donsyoku.com/programming/search-in-vector-in-rust.html<br>\n",
    "ハッシュマップ:https://doc.rust-jp.rs/rust-by-example-ja/std/hash.html<br>\n",
    "ベクタで一連の値を保持:https://doc.rust-jp.rs/book-ja/ch08-01-vectors.html<br>\n",
    "アスキーコード:https://www.ascii-code.com/<br>\n",
    "集合計算:https://doc.rust-jp.rs/rust-by-example-ja/std/hash/hashset.html<br>\n",
    "The Rust Programming Language 要約 3-8章:http://www.swlab.cs.okayama-u.ac.jp/~nom/lect/rust/The-Rust-Programming-Language-Summary-Chap3-8.html<br>"
   ]
  },
  {
   "cell_type": "markdown",
   "metadata": {},
   "source": [
    "## 第1章: 準備運動"
   ]
  },
  {
   "cell_type": "markdown",
   "metadata": {},
   "source": [
    "### 00. 文字列の逆順\n",
    "-----\n",
    "文字列”stressed”の文字を逆に（末尾から先頭に向かって）並べた文字列を得よ"
   ]
  },
  {
   "cell_type": "code",
   "execution_count": 2,
   "metadata": {},
   "outputs": [
    {
     "name": "stdout",
     "output_type": "stream",
     "text": [
      "desserts\n"
     ]
    }
   ],
   "source": [
    "//1行で処理\n",
    "let mut str:String=\"stressed\".chars().rev().collect::<String>();\n",
    "println!(\"{}\",str);"
   ]
  },
  {
   "cell_type": "code",
   "execution_count": 3,
   "metadata": {},
   "outputs": [
    {
     "name": "stdout",
     "output_type": "stream",
     "text": [
      "desserts\n"
     ]
    }
   ],
   "source": [
    "//popで出力\n",
    "let mut str:String=\"stressed\".to_string();\n",
    "for i in 0..str.len(){\n",
    "    print!(\"{}\",str.pop().unwrap());\n",
    "}\n",
    "println!();"
   ]
  },
  {
   "cell_type": "code",
   "execution_count": 4,
   "metadata": {},
   "outputs": [
    {
     "name": "stdout",
     "output_type": "stream",
     "text": [
      "desserts\n"
     ]
    }
   ],
   "source": [
    "//逆ループ出力\n",
    "let mut str:&str=\"stressed\";\n",
    "for i in str.chars().rev(){\n",
    "    print!(\"{}\",i);\n",
    "}\n",
    "println!();"
   ]
  },
  {
   "cell_type": "code",
   "execution_count": 5,
   "metadata": {},
   "outputs": [
    {
     "name": "stdout",
     "output_type": "stream",
     "text": [
      "desserts\n"
     ]
    }
   ],
   "source": [
    "//ちゃんと変数に格納する\n",
    "let mut str:&str=\"stressed\";\n",
    "let mut s:String=\"\".to_string();\n",
    "for i in str.chars().rev(){\n",
    "    //char->String->&str\n",
    "    s.push_str(&(i.to_string()));\n",
    "}\n",
    "println!(\"{}\",s);"
   ]
  },
  {
   "cell_type": "markdown",
   "metadata": {},
   "source": [
    "### 01. 「パタトクカシーー」\n",
    "---------\n",
    "「パタトクカシーー」という文字列の1,3,5,7文字目を取り出して連結した文字列を得よ．"
   ]
  },
  {
   "cell_type": "code",
   "execution_count": 6,
   "metadata": {},
   "outputs": [
    {
     "name": "stdout",
     "output_type": "stream",
     "text": [
      "パトカー\n"
     ]
    }
   ],
   "source": [
    "//ループで取得する\n",
    "let mut str=\"パタトクカシーー\";\n",
    "let mut s:String=\"\".to_string();\n",
    "let mut c:i32=1;\n",
    "for i in str.chars(){\n",
    "    //足りないパターンがあればコンパイルエラー発生\n",
    "    match c {\n",
    "    1 => s.push_str(&(i.to_string())),\n",
    "    3 => s.push_str(&(i.to_string())),\n",
    "    5 => s.push_str(&(i.to_string())),\n",
    "    7 => s.push_str(&(i.to_string())),\n",
    "    //何もしないときは()\n",
    "    _ => (),\n",
    "}\n",
    "    c+=1;\n",
    "}\n",
    "println!(\"{}\",s);"
   ]
  },
  {
   "cell_type": "code",
   "execution_count": 7,
   "metadata": {},
   "outputs": [
    {
     "name": "stdout",
     "output_type": "stream",
     "text": [
      "パトカー\n"
     ]
    }
   ],
   "source": [
    "//2文置きにとる\n",
    "let mut str=\"パタトクカシーー\".chars().step_by(2).collect::<String>();\n",
    "println!(\"{}\",str);"
   ]
  },
  {
   "cell_type": "markdown",
   "metadata": {},
   "source": [
    "### 02. 「パトカー」＋「タクシー」＝「パタトクカシーー」\n",
    "-------------\n",
    "「パトカー」＋「タクシー」の文字を先頭から交互に連結して文字列「パタトクカシーー」を得よ．"
   ]
  },
  {
   "cell_type": "code",
   "execution_count": 8,
   "metadata": {},
   "outputs": [
    {
     "name": "stdout",
     "output_type": "stream",
     "text": [
      "パタトクカシーー\n"
     ]
    }
   ],
   "source": [
    "//そのままやってみる\n",
    "let mut str1:String=\"パトカー\".to_string();\n",
    "let mut str2:String=\"タクシー\".to_string();\n",
    "let mut s:String=\"\".to_string();\n",
    "while str1.chars().count()>0{\n",
    "    s.push_str(&(str2.pop().unwrap().to_string()));\n",
    "    s.push_str(&(str1.pop().unwrap().to_string()));\n",
    "}\n",
    "//popで集めたので逆にする\n",
    "println!(\"{}\",s.chars().rev().collect::<String>());"
   ]
  },
  {
   "cell_type": "code",
   "execution_count": 9,
   "metadata": {},
   "outputs": [
    {
     "name": "stdout",
     "output_type": "stream",
     "text": [
      "パタトクカシーー\n"
     ]
    }
   ],
   "source": [
    "//Vecを使う\n",
    "//&str=>chars=>Vec\n",
    "let  str1:Vec<char>=\"パトカー\".chars().collect();\n",
    "let  str2:Vec<char>=\"タクシー\".chars().collect();\n",
    "let mut s:String=\"\".to_string();\n",
    "for i in 0..4{\n",
    "    s.push_str(&(str1[i].to_string()));\n",
    "    s.push_str(&(str2[i].to_string()));\n",
    "}\n",
    "println!(\"{}\",s);"
   ]
  },
  {
   "cell_type": "markdown",
   "metadata": {},
   "source": [
    "### 03. 円周率\n",
    "----------\n",
    "“Now I need a drink, alcoholic of course, after the heavy lectures involving quantum mechanics.”という文を単語に分解し，各単語の（アルファベットの）文字数を先頭から出現順に並べたリストを作成せよ．"
   ]
  },
  {
   "cell_type": "code",
   "execution_count": 10,
   "metadata": {},
   "outputs": [
    {
     "name": "stdout",
     "output_type": "stream",
     "text": [
      "3 1 4 1 6 9 2 7 5 3 5 8 9 7 10 \n"
     ]
    }
   ],
   "source": [
    "let mut str:&str=\"Now I need a drink, alcoholic of course, after the heavy lectures involving quantum mechanics.\";\n",
    "let mut words:Vec<&str>=str.split(\" \").collect();\n",
    "let mut ans:Vec<usize>=Vec::new();\n",
    "let mut c:i32=0;\n",
    "for i in words{\n",
    "    ans.push(i.chars().count());\n",
    "}\n",
    "for i in ans{\n",
    "    print!(\"{} \",i);\n",
    "}\n",
    "println!();"
   ]
  },
  {
   "cell_type": "markdown",
   "metadata": {},
   "source": [
    "### 04. 元素記号\n",
    "-----------\n",
    "“Hi He Lied Because Boron Could Not Oxidize Fluorine. New Nations Might Also Sign Peace Security Clause. Arthur King Can.”という文を単語に分解し，1, 5, 6, 7, 8, 9, 15, 16, 19番目の単語は先頭の1文字，それ以外の単語は先頭の2文字を取り出し，取り出した文字列から単語の位置（先頭から何番目の単語か）への連想配列（辞書型もしくはマップ型）を作成せよ．"
   ]
  },
  {
   "cell_type": "code",
   "execution_count": 11,
   "metadata": {},
   "outputs": [
    {
     "name": "stdout",
     "output_type": "stream",
     "text": [
      "元素記号:原子番号 \n",
      "　　 He:2 \n",
      "　　 S:16 \n",
      "　　 B:5 \n",
      "　　 Si:14 \n",
      "　　 Al:13 \n",
      "　　 P:15 \n",
      "　　 C:6 \n",
      "　　 Cl:17 \n",
      "　　 Ne:10 \n",
      "　　 Li:3 \n",
      "　　 O:8 \n",
      "　　 Ar:18 \n",
      "　　 K:19 \n",
      "　　 Be:4 \n",
      "　　 H:1 \n",
      "　　 F:9 \n",
      "　　 Na:11 \n",
      "　　 Mi:12 \n",
      "　　 Ca:20 \n",
      "　　 N:7 \n"
     ]
    },
    {
     "data": {
      "text/plain": [
       "()"
      ]
     },
     "execution_count": 11,
     "metadata": {},
     "output_type": "execute_result"
    }
   ],
   "source": [
    "use std::collections::HashMap;\n",
    "let mut str:&str=\"Hi He Lied Because Boron Could Not Oxidize Fluorine. New Nations Might Also Sign Peace Security Clause. Arthur King Can.\";\n",
    "let mut words:Vec<&str>=str.split(\" \").collect();\n",
    "let mut w:Vec<char>=Vec::new();\n",
    "let mut hash =HashMap::new();\n",
    "let mut c:i32=1;\n",
    "let vec: Vec<i32> = vec![1, 5, 6, 7, 8, 9, 15, 16, 19];\n",
    "\n",
    "for word in words{\n",
    "    w=word.chars().collect();\n",
    "    if vec.iter().any(|e| e==&c){\n",
    "        hash.insert(w[0].to_string(),c.to_string());\n",
    "    }else{\n",
    "        hash.insert(w[0].to_string()+&(w[1].to_string()),c.to_string());\n",
    "    }\n",
    "     c+=1;\n",
    "}\n",
    "println!(\"元素記号:原子番号 \");\n",
    "for (i,j) in hash.iter(){\n",
    "    println!(\"　　 {}:{} \",i,j);\n",
    "}\n"
   ]
  },
  {
   "cell_type": "markdown",
   "metadata": {},
   "source": [
    "### 05. n-gram\n",
    "--------\n",
    "与えられたシーケンス（文字列やリストなど）からn-gramを作る関数を作成せよ．この関数を用い，”I am an NLPer”という文から単語bi-gram，文字bi-gramを得よ"
   ]
  },
  {
   "cell_type": "code",
   "execution_count": 12,
   "metadata": {},
   "outputs": [
    {
     "name": "stdout",
     "output_type": "stream",
     "text": [
      "Now I \n",
      "I need \n",
      "need a \n",
      "a drink, \n",
      "drink, alcoholic \n",
      "alcoholic of \n",
      "of course, \n",
      "course, after \n",
      "after the \n",
      "the heavy \n",
      "heavy lectures \n",
      "lectures involving \n",
      "involving quantum \n",
      "quantum mechanics. \n",
      "No\n",
      "ow\n",
      "wI\n",
      "In\n",
      "ne\n",
      "ee\n",
      "ed\n",
      "da\n",
      "ad\n",
      "dr\n",
      "ri\n",
      "in\n",
      "nk\n",
      "k,\n",
      ",a\n",
      "al\n",
      "lc\n",
      "co\n",
      "oh\n",
      "ho\n",
      "ol\n",
      "li\n",
      "ic\n",
      "co\n",
      "of\n",
      "fc\n",
      "co\n",
      "ou\n",
      "ur\n",
      "rs\n",
      "se\n",
      "e,\n",
      ",a\n",
      "af\n",
      "ft\n",
      "te\n",
      "er\n",
      "rt\n",
      "th\n",
      "he\n",
      "eh\n",
      "he\n",
      "ea\n",
      "av\n",
      "vy\n",
      "yl\n",
      "le\n",
      "ec\n",
      "ct\n",
      "tu\n",
      "ur\n",
      "re\n",
      "es\n",
      "si\n",
      "in\n",
      "nv\n",
      "vo\n",
      "ol\n",
      "lv\n",
      "vi\n",
      "in\n",
      "ng\n",
      "gq\n",
      "qu\n",
      "ua\n",
      "an\n",
      "nt\n",
      "tu\n",
      "um\n",
      "mm\n",
      "me\n",
      "ec\n",
      "ch\n",
      "ha\n",
      "an\n",
      "ni\n",
      "ic\n",
      "cs\n",
      "s.\n"
     ]
    },
    {
     "data": {
      "text/plain": [
       "()"
      ]
     },
     "execution_count": 12,
     "metadata": {},
     "output_type": "execute_result"
    }
   ],
   "source": [
    "let mut str1:&str=\"Now I need a drink, alcoholic of course, after the heavy lectures involving quantum mechanics.\";\n",
    "let mut words1:Vec<&str>=str1.split(\" \").collect();\n",
    "let mut str2:String=str1.to_string();\n",
    "str2.retain(|c| c != ' ');\n",
    "let str3: Vec<char> = str2.chars().collect();\n",
    "let n=2;\n",
    "\n",
    "\n",
    "\n",
    "for i in 0..(words1.len()-(n-1)){\n",
    "    for j in 0..n{\n",
    "        print!(\"{} \",words1[i+j]);\n",
    "    }\n",
    "    println!();\n",
    "}\n",
    "\n",
    "\n",
    "for i in 0..str2.len()-1{\n",
    "    print!(\"{}{}\",str3[(i as usize)],str3[(i+1 as usize)]);\n",
    "    println!();\n",
    "}\n",
    "\n"
   ]
  },
  {
   "cell_type": "markdown",
   "metadata": {},
   "source": [
    "### 06. 集合\n",
    "-----------\n",
    "“paraparaparadise”と”paragraph”に含まれる文字bi-gramの集合を，それぞれ, XとYとして求め，XとYの和集合，積集合，差集合を求めよ．さらに，’se’というbi-gramがXおよびYに含まれるかどうかを調べよ．"
   ]
  },
  {
   "cell_type": "code",
   "execution_count": 13,
   "metadata": {},
   "outputs": [
    {
     "name": "stdout",
     "output_type": "stream",
     "text": [
      "Union: [\"ap\", \"ra\", \"ar\", \"is\", \"ad\", \"se\", \"pa\", \"di\", \"ph\", \"ag\", \"gr\"]\n",
      "Intersection: [\"ra\", \"ar\", \"ap\", \"pa\"]\n",
      "Difference: [\"is\", \"ad\", \"se\", \"di\"]\n",
      "seは存在\n"
     ]
    },
    {
     "data": {
      "text/plain": [
       "()"
      ]
     },
     "execution_count": 13,
     "metadata": {},
     "output_type": "execute_result"
    }
   ],
   "source": [
    "use std::collections::HashSet;\n",
    "\n",
    "fn bigram(str1:&str)->HashSet<String>{\n",
    "    \n",
    "    let mut sentence:Vec<&str>=str1.split(\"\").collect();\n",
    "    let mut bigram_arr=HashSet::new();\n",
    "    for i in 0..(str1.chars().count()){\n",
    "        if !(sentence[i]==\"\"){\n",
    "            bigram_arr.insert(sentence[i].to_string()+sentence[i+1]);\n",
    "        }\n",
    "    }\n",
    "    bigram_arr\n",
    "}\n",
    "\n",
    "\n",
    "let mut str1=\"paraparaparadise\";\n",
    "let mut str2=\"paragraph\";\n",
    "let mut X=bigram(str1);\n",
    "let mut Y=bigram(str2);\n",
    "let mut f=0;\n",
    "\n",
    "println!(\"Union: {:?}\", X.union(&Y));\n",
    "println!(\"Intersection: {:?}\", X.intersection(&Y));\n",
    "println!(\"Difference: {:?}\", X.difference(&Y));\n",
    "\n",
    "\n",
    "for i in X{\n",
    "    if i==\"se\"{\n",
    "        f=1;\n",
    "    }\n",
    "}\n",
    "for i in Y{\n",
    "    if i==\"se\"{\n",
    "        f=1;\n",
    "    }\n",
    "}\n",
    "if f==1{\n",
    "    println!(\"seは存在\");\n",
    "}\n"
   ]
  },
  {
   "cell_type": "markdown",
   "metadata": {},
   "source": [
    "### 07. テンプレートによる文生成\n",
    "----------\n",
    "引数x, y, zを受け取り「x時のyはz」という文字列を返す関数を実装せよ．さらに，x=12, y=”気温”, z=22.4として，実行結果を確認せよ"
   ]
  },
  {
   "cell_type": "code",
   "execution_count": null,
   "metadata": {},
   "outputs": [],
   "source": [
    "use std::io;\n",
    "\n",
    "fn template(){\n",
    "let mut x:String=String::new();\n",
    "let mut y:String=String::new();\n",
    "let mut z:String=String::new();\n",
    "io::stdin().read_line(&mut x).expect(\"Read Error\");\n",
    "io::stdin().read_line(&mut y).expect(\"Read Error\");\n",
    "io::stdin().read_line(&mut z).expect(\"Read Error\");\n",
    "println!(\"{}時の{}は{}\",x,y,z);\n",
    "}\n",
    "\n",
    "template();\n"
   ]
  },
  {
   "cell_type": "markdown",
   "metadata": {},
   "source": [
    "### 08. 暗号文\n",
    "------------\n",
    "与えられた文字列の各文字を，以下の仕様で変換する関数cipherを実装せよ．\n",
    "\n",
    "<li>英小文字ならば(219 - 文字コード)の文字に置換</li>\n",
    "<li>その他の文字はそのまま出力</li>\n",
    "この関数を用い，英語のメッセージを暗号化・復号化せよ．"
   ]
  },
  {
   "cell_type": "code",
   "execution_count": 14,
   "metadata": {},
   "outputs": [
    {
     "name": "stdout",
     "output_type": "stream",
     "text": [
      "オリジナル:FasAdwrabcd@\n",
      "暗号化:FzhAwdizyxw@\n",
      "復号化:FasAdwrabcd@\n"
     ]
    }
   ],
   "source": [
    "use std::io;\n",
    "//ascii u8\n",
    "fn cipher(s:String)->String{\n",
    "    let mut c: Vec<char>=s.chars().collect();\n",
    "    let mut ascii:u8;\n",
    "    for i in 0..c.len(){\n",
    "        ascii=c[i] as u8;\n",
    "        if 219-ascii<141{\n",
    "            //println!(\"{}\",ascii);\n",
    "            c[i]=(219-ascii) as char;\n",
    "        }\n",
    "    }\n",
    "    c.iter().collect()\n",
    "}\n",
    "//let mut x:String=String::new();\n",
    "//io::stdin().read_line(&mut x).expect(\"Read Error\");\n",
    "let mut x:String=\"FasAdwrabcd@\".to_string();\n",
    "let mut c;\n",
    "println!(\"オリジナル:{}\",x);\n",
    "c=cipher(x);\n",
    "println!(\"暗号化:{}\",c);\n",
    "c=cipher(c);\n",
    "println!(\"復号化:{}\",c);"
   ]
  },
  {
   "cell_type": "markdown",
   "metadata": {},
   "source": [
    "### 09. Typoglycemia\n",
    "-----------\n",
    "スペースで区切られた単語列に対して，各単語の先頭と末尾の文字は残し，それ以外の文字の順序をランダムに並び替えるプログラムを作成せよ．ただし，長さが４以下の単語は並び替えないこととする．適当な英語の文（例えば”I couldn’t believe that I could actually understand what I was reading : the phenomenal power of the human mind .”）を与え，その実行結果を確認せよ．"
   ]
  },
  {
   "cell_type": "code",
   "execution_count": 15,
   "metadata": {
    "scrolled": true
   },
   "outputs": [
    {
     "name": "stdout",
     "output_type": "stream",
     "text": [
      "I co’dnult bieevle taht I could aautclly udsnetarnd what I was ridenag : the pnhnomaeel peowr of the huamn mnid . \n"
     ]
    }
   ],
   "source": [
    "extern crate rand;\n",
    "use rand::seq::SliceRandom;\n",
    "\n",
    "let mut str:&str=\"I couldn’t believe that I could actually understand what I was reading : the phenomenal power of the human mind .\";\n",
    "\n",
    "let mut word_length=0;\n",
    "let mut c:Vec<char>=Vec::new();\n",
    "let mut v:Vec<i32>=Vec::new();\n",
    "let mut s:String=String::new();\n",
    "let mut new_str:String=String::new();\n",
    "let mut rng = rand::thread_rng();\n",
    "\n",
    "for i in str.split(' '){\n",
    "    word_length=i.to_string().chars().count() as i32;\n",
    "\n",
    "    if word_length>3{\n",
    "        \n",
    "        c=i.chars().collect();\n",
    "        v=Vec::new();\n",
    "        s=String::new();\n",
    "        for j in 1..(word_length-1){\n",
    "            v.push(j);\n",
    "        }\n",
    "        v.shuffle(&mut rng);\n",
    "        //head_str\n",
    "        s+=&(c[0].to_string());\n",
    "        \n",
    "        for l in v{\n",
    "            //generate random string\n",
    "            s+=&(c[l as usize].to_string());\n",
    "        }\n",
    "        //tail_str\n",
    "        s+=&(c[(word_length-1) as usize].to_string());\n",
    "        s+=\" \";\n",
    "        new_str+=&(s.to_string());\n",
    "    }\n",
    "    else{\n",
    "        new_str+=&(i);\n",
    "        new_str+=\" \";\n",
    "    }\n",
    "}\n",
    "\n",
    "println!(\"{}\",new_str);"
   ]
  }
 ],
 "metadata": {
  "kernelspec": {
   "display_name": "Rust",
   "language": "rust",
   "name": "rust"
  },
  "language_info": {
   "codemirror_mode": "rust",
   "file_extension": ".rs",
   "mimetype": "text/rust",
   "name": "Rust",
   "pygment_lexer": "rust",
   "version": ""
  },
  "toc": {
   "base_numbering": 1,
   "nav_menu": {},
   "number_sections": true,
   "sideBar": true,
   "skip_h1_title": false,
   "title_cell": "Table of Contents",
   "title_sidebar": "Contents",
   "toc_cell": false,
   "toc_position": {
    "height": "calc(100% - 180px)",
    "left": "10px",
    "top": "150px",
    "width": "203.119px"
   },
   "toc_section_display": true,
   "toc_window_display": true
  }
 },
 "nbformat": 4,
 "nbformat_minor": 2
}
